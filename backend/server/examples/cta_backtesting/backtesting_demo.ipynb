{
 "cells": [
  {
   "cell_type": "code",
   "execution_count": 1,
   "metadata": {},
   "outputs": [
    {
     "name": "stdout",
     "output_type": "stream",
     "text": [
      "/Users/edz/Codebase/vnpy/vnpy-3.8.0\n",
      "/Users/edz/.vntrader/vt_setting.json\n"
     ]
    }
   ],
   "source": [
    "from datetime import datetime\n",
    "\n",
    "from vnpy.trader.optimize import OptimizationSetting\n",
    "from vnpy_ctastrategy.backtesting import BacktestingEngine\n",
    "from vnpy_ctastrategy.strategies.atr_rsi_strategy import AtrRsiStrategy"
   ]
  },
  {
   "cell_type": "code",
   "execution_count": 2,
   "metadata": {},
   "outputs": [],
   "source": [
    "engine = BacktestingEngine()\n",
    "engine.set_parameters(\n",
    "    vt_symbol=\"IF888.CFFEX\",\n",
    "    interval=\"1m\",\n",
    "    start=datetime(2019, 1, 1),\n",
    "    end=datetime(2019, 4, 30),\n",
    "    rate=0.3/10000,\n",
    "    slippage=0.2,\n",
    "    size=300,\n",
    "    pricetick=0.2,\n",
    "    capital=1_000_000,\n",
    ")\n",
    "engine.add_strategy(AtrRsiStrategy, {})"
   ]
  },
  {
   "cell_type": "code",
   "execution_count": 4,
   "metadata": {
    "scrolled": false
   },
   "outputs": [
    {
     "name": "stdout",
     "output_type": "stream",
     "text": [
      "2023-11-03 18:27:33.660089\t开始加载历史数据\n",
      "2023-11-03 18:27:33.660390\t加载进度：# [0%]\n",
      "我找不到数据库驱动vnpy_postgresql，使用默认的SQLite数据库\n"
     ]
    },
    {
     "ename": "ModuleNotFoundError",
     "evalue": "No module named 'vnpy_sqlite'",
     "output_type": "error",
     "traceback": [
      "\u001b[0;31m---------------------------------------------------------------------------\u001b[0m",
      "\u001b[0;31mModuleNotFoundError\u001b[0m                       Traceback (most recent call last)",
      "File \u001b[0;32m~/Codebase/vnpy/vnpy-3.8.0/vnpy/trader/database.py:152\u001b[0m, in \u001b[0;36mget_database\u001b[0;34m()\u001b[0m\n\u001b[1;32m    151\u001b[0m \u001b[39mtry\u001b[39;00m:\n\u001b[0;32m--> 152\u001b[0m     module: ModuleType \u001b[39m=\u001b[39m import_module(module_name)\n\u001b[1;32m    153\u001b[0m \u001b[39mexcept\u001b[39;00m \u001b[39mModuleNotFoundError\u001b[39;00m:\n",
      "File \u001b[0;32m~/opt/miniconda3/lib/python3.9/importlib/__init__.py:127\u001b[0m, in \u001b[0;36mimport_module\u001b[0;34m(name, package)\u001b[0m\n\u001b[1;32m    126\u001b[0m         level \u001b[39m+\u001b[39m\u001b[39m=\u001b[39m \u001b[39m1\u001b[39m\n\u001b[0;32m--> 127\u001b[0m \u001b[39mreturn\u001b[39;00m _bootstrap\u001b[39m.\u001b[39;49m_gcd_import(name[level:], package, level)\n",
      "File \u001b[0;32m<frozen importlib._bootstrap>:1030\u001b[0m, in \u001b[0;36m_gcd_import\u001b[0;34m(name, package, level)\u001b[0m\n",
      "File \u001b[0;32m<frozen importlib._bootstrap>:1007\u001b[0m, in \u001b[0;36m_find_and_load\u001b[0;34m(name, import_)\u001b[0m\n",
      "File \u001b[0;32m<frozen importlib._bootstrap>:986\u001b[0m, in \u001b[0;36m_find_and_load_unlocked\u001b[0;34m(name, import_)\u001b[0m\n",
      "File \u001b[0;32m<frozen importlib._bootstrap>:680\u001b[0m, in \u001b[0;36m_load_unlocked\u001b[0;34m(spec)\u001b[0m\n",
      "File \u001b[0;32m<frozen importlib._bootstrap_external>:850\u001b[0m, in \u001b[0;36mexec_module\u001b[0;34m(self, module)\u001b[0m\n",
      "File \u001b[0;32m<frozen importlib._bootstrap>:228\u001b[0m, in \u001b[0;36m_call_with_frames_removed\u001b[0;34m(f, *args, **kwds)\u001b[0m\n",
      "File \u001b[0;32m~/Codebase/vnpy/vnpy-3.8.0/vnpy_postgresql/__init__.py:26\u001b[0m\n\u001b[1;32m     24\u001b[0m \u001b[39mimport\u001b[39;00m \u001b[39mimportlib_metadata\u001b[39;00m\n\u001b[0;32m---> 26\u001b[0m \u001b[39mfrom\u001b[39;00m \u001b[39m.\u001b[39;00m\u001b[39mpostgresql_database\u001b[39;00m \u001b[39mimport\u001b[39;00m PostgresqlDatabase \u001b[39mas\u001b[39;00m Database\n\u001b[1;32m     29\u001b[0m \u001b[39mtry\u001b[39;00m:\n",
      "File \u001b[0;32m~/Codebase/vnpy/vnpy-3.8.0/vnpy_postgresql/postgresql_database.py:4\u001b[0m\n\u001b[1;32m      2\u001b[0m \u001b[39mfrom\u001b[39;00m \u001b[39mtyping\u001b[39;00m \u001b[39mimport\u001b[39;00m List\n\u001b[0;32m----> 4\u001b[0m \u001b[39mfrom\u001b[39;00m \u001b[39mpeewee\u001b[39;00m \u001b[39mimport\u001b[39;00m (\n\u001b[1;32m      5\u001b[0m     AutoField,\n\u001b[1;32m      6\u001b[0m     CharField,\n\u001b[1;32m      7\u001b[0m     DateTimeField,\n\u001b[1;32m      8\u001b[0m     FloatField,\n\u001b[1;32m      9\u001b[0m     IntegerField,\n\u001b[1;32m     10\u001b[0m     Model,\n\u001b[1;32m     11\u001b[0m     PostgresqlDatabase \u001b[39mas\u001b[39;00m PeeweePostgresqlDatabase,\n\u001b[1;32m     12\u001b[0m     ModelSelect,\n\u001b[1;32m     13\u001b[0m     ModelDelete,\n\u001b[1;32m     14\u001b[0m     fn,\n\u001b[1;32m     15\u001b[0m     chunked,\n\u001b[1;32m     16\u001b[0m )\n\u001b[1;32m     18\u001b[0m \u001b[39mfrom\u001b[39;00m \u001b[39mvnpy\u001b[39;00m\u001b[39m.\u001b[39;00m\u001b[39mtrader\u001b[39;00m\u001b[39m.\u001b[39;00m\u001b[39mconstant\u001b[39;00m \u001b[39mimport\u001b[39;00m Exchange, Interval\n",
      "\u001b[0;31mModuleNotFoundError\u001b[0m: No module named 'peewee'",
      "\nDuring handling of the above exception, another exception occurred:\n",
      "\u001b[0;31mModuleNotFoundError\u001b[0m                       Traceback (most recent call last)",
      "\u001b[1;32m/Users/edz/Codebase/vnpy/vnpy-3.8.0/examples/cta_backtesting/backtesting_demo.ipynb 单元格 3\u001b[0m line \u001b[0;36m1\n\u001b[0;32m----> <a href='vscode-notebook-cell:/Users/edz/Codebase/vnpy/vnpy-3.8.0/examples/cta_backtesting/backtesting_demo.ipynb#W2sZmlsZQ%3D%3D?line=0'>1</a>\u001b[0m engine\u001b[39m.\u001b[39;49mload_data()\n\u001b[1;32m      <a href='vscode-notebook-cell:/Users/edz/Codebase/vnpy/vnpy-3.8.0/examples/cta_backtesting/backtesting_demo.ipynb#W2sZmlsZQ%3D%3D?line=1'>2</a>\u001b[0m engine\u001b[39m.\u001b[39mrun_backtesting()\n\u001b[1;32m      <a href='vscode-notebook-cell:/Users/edz/Codebase/vnpy/vnpy-3.8.0/examples/cta_backtesting/backtesting_demo.ipynb#W2sZmlsZQ%3D%3D?line=2'>3</a>\u001b[0m df \u001b[39m=\u001b[39m engine\u001b[39m.\u001b[39mcalculate_result()\n",
      "File \u001b[0;32m~/Codebase/vnpy/vnpy-3.8.0/vnpy_ctastrategy/backtesting.py:187\u001b[0m, in \u001b[0;36mBacktestingEngine.load_data\u001b[0;34m(self)\u001b[0m\n\u001b[1;32m    184\u001b[0m end: datetime \u001b[39m=\u001b[39m \u001b[39mmin\u001b[39m(end, \u001b[39mself\u001b[39m\u001b[39m.\u001b[39mend)  \u001b[39m# Make sure end time stays within set range\u001b[39;00m\n\u001b[1;32m    186\u001b[0m \u001b[39mif\u001b[39;00m \u001b[39mself\u001b[39m\u001b[39m.\u001b[39mmode \u001b[39m==\u001b[39m BacktestingMode\u001b[39m.\u001b[39mBAR:\n\u001b[0;32m--> 187\u001b[0m     data: List[BarData] \u001b[39m=\u001b[39m load_bar_data(\n\u001b[1;32m    188\u001b[0m         \u001b[39mself\u001b[39;49m\u001b[39m.\u001b[39;49msymbol,\n\u001b[1;32m    189\u001b[0m         \u001b[39mself\u001b[39;49m\u001b[39m.\u001b[39;49mexchange,\n\u001b[1;32m    190\u001b[0m         \u001b[39mself\u001b[39;49m\u001b[39m.\u001b[39;49minterval,\n\u001b[1;32m    191\u001b[0m         start,\n\u001b[1;32m    192\u001b[0m         end\n\u001b[1;32m    193\u001b[0m     )\n\u001b[1;32m    194\u001b[0m \u001b[39melse\u001b[39;00m:\n\u001b[1;32m    195\u001b[0m     data: List[TickData] \u001b[39m=\u001b[39m load_tick_data(\n\u001b[1;32m    196\u001b[0m         \u001b[39mself\u001b[39m\u001b[39m.\u001b[39msymbol,\n\u001b[1;32m    197\u001b[0m         \u001b[39mself\u001b[39m\u001b[39m.\u001b[39mexchange,\n\u001b[1;32m    198\u001b[0m         start,\n\u001b[1;32m    199\u001b[0m         end\n\u001b[1;32m    200\u001b[0m     )\n",
      "File \u001b[0;32m~/Codebase/vnpy/vnpy-3.8.0/vnpy_ctastrategy/backtesting.py:1072\u001b[0m, in \u001b[0;36mload_bar_data\u001b[0;34m(symbol, exchange, interval, start, end)\u001b[0m\n\u001b[1;32m   1063\u001b[0m \u001b[39m@lru_cache\u001b[39m(maxsize\u001b[39m=\u001b[39m\u001b[39m999\u001b[39m)\n\u001b[1;32m   1064\u001b[0m \u001b[39mdef\u001b[39;00m \u001b[39mload_bar_data\u001b[39m(\n\u001b[1;32m   1065\u001b[0m     symbol: \u001b[39mstr\u001b[39m,\n\u001b[0;32m   (...)\u001b[0m\n\u001b[1;32m   1069\u001b[0m     end: datetime\n\u001b[1;32m   1070\u001b[0m ) \u001b[39m-\u001b[39m\u001b[39m>\u001b[39m List[BarData]:\n\u001b[1;32m   1071\u001b[0m     \u001b[39m\"\"\"\"\"\"\u001b[39;00m\n\u001b[0;32m-> 1072\u001b[0m     database: BaseDatabase \u001b[39m=\u001b[39m get_database()\n\u001b[1;32m   1074\u001b[0m     \u001b[39mreturn\u001b[39;00m database\u001b[39m.\u001b[39mload_bar_data(\n\u001b[1;32m   1075\u001b[0m         symbol, exchange, interval, start, end\n\u001b[1;32m   1076\u001b[0m     )\n",
      "File \u001b[0;32m~/Codebase/vnpy/vnpy-3.8.0/vnpy/trader/database.py:155\u001b[0m, in \u001b[0;36mget_database\u001b[0;34m()\u001b[0m\n\u001b[1;32m    153\u001b[0m \u001b[39mexcept\u001b[39;00m \u001b[39mModuleNotFoundError\u001b[39;00m:\n\u001b[1;32m    154\u001b[0m     \u001b[39mprint\u001b[39m(\u001b[39mf\u001b[39m\u001b[39m\"\u001b[39m\u001b[39m我找不到数据库驱动\u001b[39m\u001b[39m{\u001b[39;00mmodule_name\u001b[39m}\u001b[39;00m\u001b[39m，使用默认的SQLite数据库\u001b[39m\u001b[39m\"\u001b[39m)\n\u001b[0;32m--> 155\u001b[0m     module: ModuleType \u001b[39m=\u001b[39m import_module(\u001b[39m\"\u001b[39;49m\u001b[39mvnpy_sqlite\u001b[39;49m\u001b[39m\"\u001b[39;49m)\n\u001b[1;32m    157\u001b[0m \u001b[39m# Create database object from module\u001b[39;00m\n\u001b[1;32m    158\u001b[0m database \u001b[39m=\u001b[39m module\u001b[39m.\u001b[39mDatabase()\n",
      "File \u001b[0;32m~/opt/miniconda3/lib/python3.9/importlib/__init__.py:127\u001b[0m, in \u001b[0;36mimport_module\u001b[0;34m(name, package)\u001b[0m\n\u001b[1;32m    125\u001b[0m             \u001b[39mbreak\u001b[39;00m\n\u001b[1;32m    126\u001b[0m         level \u001b[39m+\u001b[39m\u001b[39m=\u001b[39m \u001b[39m1\u001b[39m\n\u001b[0;32m--> 127\u001b[0m \u001b[39mreturn\u001b[39;00m _bootstrap\u001b[39m.\u001b[39;49m_gcd_import(name[level:], package, level)\n",
      "File \u001b[0;32m<frozen importlib._bootstrap>:1030\u001b[0m, in \u001b[0;36m_gcd_import\u001b[0;34m(name, package, level)\u001b[0m\n",
      "File \u001b[0;32m<frozen importlib._bootstrap>:1007\u001b[0m, in \u001b[0;36m_find_and_load\u001b[0;34m(name, import_)\u001b[0m\n",
      "File \u001b[0;32m<frozen importlib._bootstrap>:984\u001b[0m, in \u001b[0;36m_find_and_load_unlocked\u001b[0;34m(name, import_)\u001b[0m\n",
      "\u001b[0;31mModuleNotFoundError\u001b[0m: No module named 'vnpy_sqlite'"
     ]
    }
   ],
   "source": [
    "engine.load_data()\n",
    "engine.run_backtesting()\n",
    "df = engine.calculate_result()\n",
    "engine.calculate_statistics()\n",
    "engine.show_chart()"
   ]
  },
  {
   "cell_type": "code",
   "execution_count": null,
   "metadata": {
    "scrolled": false
   },
   "outputs": [],
   "source": [
    "setting = OptimizationSetting()\n",
    "setting.set_target(\"sharpe_ratio\")\n",
    "setting.add_parameter(\"atr_length\", 25, 27, 1)\n",
    "setting.add_parameter(\"atr_ma_length\", 10, 30, 10)\n",
    "\n",
    "engine.run_ga_optimization(setting)"
   ]
  },
  {
   "cell_type": "code",
   "execution_count": null,
   "metadata": {
    "scrolled": false
   },
   "outputs": [],
   "source": [
    "engine.run_bf_optimization(setting)"
   ]
  },
  {
   "cell_type": "code",
   "execution_count": null,
   "metadata": {},
   "outputs": [],
   "source": []
  }
 ],
 "metadata": {
  "kernelspec": {
   "display_name": "Python 3",
   "language": "python",
   "name": "python3"
  },
  "language_info": {
   "codemirror_mode": {
    "name": "ipython",
    "version": 3
   },
   "file_extension": ".py",
   "mimetype": "text/x-python",
   "name": "python",
   "nbconvert_exporter": "python",
   "pygments_lexer": "ipython3",
   "version": "3.9.12"
  }
 },
 "nbformat": 4,
 "nbformat_minor": 2
}
